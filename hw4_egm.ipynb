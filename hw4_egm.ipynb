{
 "cells": [
  {
   "cell_type": "code",
   "execution_count": 1,
   "metadata": {},
   "outputs": [],
   "source": [
    "import numpy as np\n",
    "import quantecon as qe\n",
    "import matplotlib.pyplot as plt\n",
    "import time\n",
    "from scipy.optimize import minimize_scalar\n",
    "from scipy.interpolate import interp1d"
   ]
  },
  {
   "cell_type": "markdown",
   "metadata": {},
   "source": [
    "Create grids for next period's capital holdings"
   ]
  },
  {
   "cell_type": "code",
   "execution_count": 2,
   "metadata": {},
   "outputs": [],
   "source": [
    "def create_grids(n, theta):\n",
    "\n",
    "    zero_grid=np.linspace(0, 1, n).reshape(-1,1)\n",
    "\n",
    "    k_grid=np.zeros(shape=(n,1))\n",
    "\n",
    "    k_low  = 1e-4\n",
    "\n",
    "    k_high  = 100\n",
    "    \n",
    "    #for i in range(len(new_grid)):\n",
    "        #k_grid[i] =  low_bound + ( up_bound - low_bound ) * (new_grid[i] ** 1)\n",
    "\n",
    "    for i in range(len(zero_grid)):\n",
    "        k_grid[i] =  (k_low) + ( (k_high) - (k_low) ) * (zero_grid[i] ** theta)\n",
    "\n",
    "    return k_grid "
   ]
  },
  {
   "cell_type": "markdown",
   "metadata": {},
   "source": [
    "define various utility functions"
   ]
  },
  {
   "cell_type": "code",
   "execution_count": 3,
   "metadata": {},
   "outputs": [],
   "source": [
    "def u(c, gamma):\n",
    "    if gamma == 1:\n",
    "        return np.log(c)\n",
    "    else:\n",
    "        return ((c ** (1 - gamma))/( 1 - gamma))"
   ]
  },
  {
   "cell_type": "code",
   "execution_count": 4,
   "metadata": {},
   "outputs": [],
   "source": [
    "def u_ces(c,gamma, beta):\n",
    "    return (1 - beta) * (c) ** (1-gamma)"
   ]
  },
  {
   "cell_type": "markdown",
   "metadata": {},
   "source": [
    "define the production function"
   ]
  },
  {
   "cell_type": "code",
   "execution_count": 5,
   "metadata": {},
   "outputs": [],
   "source": [
    "def f(A, alpha, delta, k):\n",
    "    return A * (k ** alpha) + (1 - delta) * k"
   ]
  },
  {
   "cell_type": "markdown",
   "metadata": {},
   "source": [
    "Now, create a function to linearly interpolate each column of the Value matrix, so that we can calculate the derivate at each point on the capital grid."
   ]
  },
  {
   "cell_type": "code",
   "execution_count": 6,
   "metadata": {},
   "outputs": [],
   "source": [
    "def interpolate_column(grid, column):\n",
    "    interpolator = interp1d(np.squeeze(grid), column, kind = 'linear', fill_value = 'extrapolate')\n",
    "    return interpolator"
   ]
  },
  {
   "cell_type": "markdown",
   "metadata": {},
   "source": [
    "def "
   ]
  },
  {
   "cell_type": "markdown",
   "metadata": {},
   "source": [
    "Let's now begin with the endogenous grid method"
   ]
  },
  {
   "cell_type": "code",
   "execution_count": 328,
   "metadata": {},
   "outputs": [],
   "source": [
    "def egm(n_k, n_z, epsilon, theta, rho, A, alpha, delta, sigma, mu, toler, beta, gamma, max_iter): \n",
    "    \n",
    "    # First, discretise an AR1 process using Rouwenhorst's method\n",
    "    mc = qe.markov.approximation.rouwenhorst(n_z, rho, sigma, mu)\n",
    "    z, Pi = mc.state_values, mc.P\n",
    "\n",
    "    # Create capital, shock and resource grids\n",
    "    z_grid = z\n",
    "    # k_grid = create_grids(n_k, theta)\n",
    "    k_grid = create_grids(n_k, theta)\n",
    "    Y_grid = f(np.exp(z_grid) * A, alpha, delta, k_grid) \n",
    "\n",
    "    #Create a matrix to store the derivatives of the interpolated value functions on the capital grid\n",
    "    derivatives = np.zeros((n_k,n_z))\n",
    "    V_tilde = np.zeros((n_k,n_z))\n",
    "\n",
    "    # Initialise value and policy functions\n",
    "    j_vals = np.arange(1,16)\n",
    "    V_star = (0.01 * (k_grid)) * (j_vals ** (1/gamma))\n",
    "    V_star_new = np.zeros((n_k, n_z))  \n",
    "    interpolated_V = np.zeros((n_k,n_z))\n",
    "\n",
    "    it = 0\n",
    "\n",
    "    for it in range(max_iter):\n",
    "\n",
    "        # Create list of interpolated columns\n",
    "        interpolators = [interpolate_column(k_grid, V_star[:,j]) for j in range(n_z)]\n",
    "\n",
    "        # Update the derivatives\n",
    "        for j, interpolator in enumerate(interpolators): # Here I changed how the loop is defined \n",
    "            for i in range(n_k):\n",
    "                #for j in range(len(n_z)):\n",
    "                    #derivatives[i,j]=((interpolators[j](k_grid[i])-interpolators[j](k_grid[i]-epsilon))/(epsilon))\n",
    "                    derivatives[i,j]=((interpolator(k_grid[i])-interpolator(k_grid[i]-epsilon))/(epsilon))\n",
    "        for i in range(n_z): #15 loop\n",
    "            V_tilde[:,i] =  beta * np.dot(Pi[i,:], derivatives.T)\n",
    "        # Now that we have the derivatives, we can use the first-order conditions to find consumption\n",
    "        #c_star = (derivatives)**(-1/gamma)\n",
    "        #c_star = (beta * derivatives)**(-1/gamma)\n",
    "        #print(V_tilde)\n",
    "        c_star = (V_tilde)**(-1/gamma)\n",
    "        # Calculate the implied total resources\n",
    "        Y_star = c_star + k_grid\n",
    "        # Update the Value function\n",
    "        V = u(c_star, gamma) + V_star # Here I added gamma as an input for the function. I don't remember if I changed how u() was defined or you forgot to include this\n",
    "        # New interpolation \n",
    "        V_interpolators = [interpolate_column(Y_star[:,j], V[:,j]) for j in range(n_z)] # Changed V_star by V\n",
    "\n",
    "        # Evaluate \n",
    "        for j, interpolator in enumerate(V_interpolators): # Here I changed how the loop is defined\n",
    "            for i in range(n_k):\n",
    "                interpolated_V[i,j] = V_interpolators[j](Y_grid[i, j])\n",
    "        # Now, calculate the updated expected value\n",
    "        #for j in range(n_z):\n",
    "            #V_star_new[:, j] = beta * np.dot(interpolated_V[:, j], Pi[j,:])       \n",
    "        V_star_new = beta * np.dot(interpolated_V, Pi.T) # I am not sure that this is the correct way to define this. \n",
    "        # Check error\n",
    "\n",
    "        error = np.max(np.abs(V_star_new - V_star)/1+np.abs(V_star))\n",
    "\n",
    "        if it % 25 == 0:\n",
    "            print(f'Iteration {it} completed with error = {error}')\n",
    "\n",
    "        if error < toler:\n",
    "            break\n",
    "\n",
    "        V_star = np.copy(V_star_new)        \n",
    "        it+=1\n",
    "\n",
    "    return V_star"
   ]
  },
  {
   "cell_type": "code",
   "execution_count": 7,
   "metadata": {},
   "outputs": [],
   "source": [
    "def egm_edited(n_k, n_z, epsilon, theta, rho, A, alpha, delta, sigma, mu, toler, beta, gamma, max_iter): \n",
    "\n",
    "    # First, discretise an AR1 process using Rouwenhorst's method\n",
    "    mc = qe.markov.approximation.rouwenhorst(n_z, rho, sigma, mu)\n",
    "    z, Pi = mc.state_values, mc.P\n",
    "\n",
    "    # Create capital, shock and resource grids\n",
    "    z_grid = z\n",
    "\n",
    "    k_grid = create_grids(n_k, theta)\n",
    "\n",
    "    Y_grid = f(np.exp(z_grid) * A, alpha, delta, k_grid) \n",
    "\n",
    "    #Create a matrix to store the derivatives of the interpolated value functions on the capital grid\n",
    "    derivatives = np.zeros((n_k,n_z))\n",
    "\n",
    "    # Initialise value and policy functions\n",
    "    V_star = np.zeros((n_k, n_z))  \n",
    "    for i in range(n_k):\n",
    "        for j in range(n_z):\n",
    "            V_star[i,j] = (u(np.squeeze(k_grid[i]), gamma))\n",
    "    #print(V_star[:,0])\n",
    "\n",
    "    V_star_new = np.zeros((n_k, n_z))  \n",
    "\n",
    "    interpolated_V = np.zeros((n_k,n_z))\n",
    "\n",
    "    it = 0\n",
    "\n",
    "    for it in range(max_iter):\n",
    "\n",
    "        # Create list of interpolated columns\n",
    "        interpolators = [interpolate_column(np.squeeze(k_grid), V_star[:,j]) for j in range(n_z)]\n",
    "\n",
    "        # Update the derivatives\n",
    "        for j, interpolator in enumerate(interpolators): # Here I changed how the loop is defined \n",
    "            for i in range(n_k):\n",
    "                    derivatives[i,j]=((interpolator(k_grid[i]+epsilon)-interpolator(k_grid[i]-epsilon))/(2*epsilon))\n",
    "        #print(derivatives[:,0])\n",
    "\n",
    "        #for i in range(n_z): #15 loop\n",
    "            #V_tilde[:,i] =  beta * np.dot(Pi[i,:], derivatives.T)\n",
    "        #print(V_tilde[:,0])\n",
    "\n",
    "        #Now that we have the derivatives, we can use the first-order conditions to find consumption\n",
    "        c_star = (derivatives)**(-1/gamma)\n",
    "        #print(c_star[:,0])\n",
    "\n",
    "        # Calculate the implied total resources\n",
    "        Y_star = c_star + k_grid\n",
    "        #print(Y_star[:,0])\n",
    "\n",
    "        # Update the Value function\n",
    "        V = u(c_star, gamma) + V_star\n",
    "        #print(V[:,1])\n",
    "\n",
    "        #New interpolation \n",
    "        V_interpolators = [interpolate_column(Y_star[:,j], V[:,j]) for j in range(n_z)]\n",
    "\n",
    "        # Evaluate \n",
    "        for j, interpolator in enumerate(V_interpolators): \n",
    "            for i in range(n_k):\n",
    "                interpolated_V[i,j] = interpolator(Y_grid[i, j])\n",
    "        #print(interpolated_V[:,0])\n",
    "\n",
    "        # Now, calculate the updated expected value  \n",
    "        for i in range(n_k):\n",
    "            for j in range(n_z):   \n",
    "                V_star_new[i,j] = beta * np.dot(interpolated_V[i,:], Pi[j,:]) \n",
    "        #print(V_star_new[:,0])\n",
    "        #V_star_new = beta * np.dot(interpolated_V, Pi.T) # I am not sure that this is the correct way to define this.\n",
    "\n",
    "        # Check error\n",
    "        error = np.max(np.abs(V_star_new - V_star)/1+np.abs(V_star))\n",
    "\n",
    "        if it % 1 == 0:\n",
    "            print(f'Iteration {it} completed with error = {error}')\n",
    "\n",
    "        if error < toler:\n",
    "            break\n",
    "\n",
    "        V_star = np.copy(V_star_new)        \n",
    "        it+=1\n",
    "\n",
    "    #X = np.zeros(shape=(n_k, n_z))\n",
    "    #for i in range(n_k):\n",
    "        #for j in range(n_z):\n",
    "\n",
    "\n",
    "    return V_star"
   ]
  },
  {
   "cell_type": "code",
   "execution_count": 8,
   "metadata": {},
   "outputs": [
    {
     "name": "stderr",
     "output_type": "stream",
     "text": [
      "C:\\Users\\bayle\\AppData\\Local\\Temp\\ipykernel_37548\\1338576502.py:4: UserWarning: The API of rouwenhorst has changed from `rouwenhorst(n, ybar, sigma, rho)` to `rouwenhorst(n, rho, sigma, mu=0.)`. To find more details please visit: https://github.com/QuantEcon/QuantEcon.py/issues/663.\n",
      "  mc = qe.markov.approximation.rouwenhorst(n_z, rho, sigma, mu)\n"
     ]
    },
    {
     "name": "stdout",
     "output_type": "stream",
     "text": [
      "Iteration 0 completed with error = 19992.918201009343\n",
      "Iteration 1 completed with error = 16.570256785102668\n",
      "Iteration 2 completed with error = 4.4659683052895485\n",
      "Iteration 3 completed with error = 4.944846624381687\n",
      "Iteration 4 completed with error = 5.362899395852823\n",
      "Iteration 5 completed with error = 5.625929186839448\n",
      "Iteration 6 completed with error = 5.783033286961335\n",
      "Iteration 7 completed with error = 5.887707194491412\n",
      "Iteration 8 completed with error = 5.965238290958253\n",
      "Iteration 9 completed with error = 6.032616592187614\n",
      "Iteration 10 completed with error = 6.095355795832359\n",
      "Iteration 11 completed with error = 6.15427907737608\n",
      "Iteration 12 completed with error = 6.210214908036582\n",
      "Iteration 13 completed with error = 6.2635414588138145\n",
      "Iteration 14 completed with error = 6.314465671784569\n",
      "Iteration 15 completed with error = 6.36313653999153\n",
      "Iteration 16 completed with error = 6.4096730417991825\n"
     ]
    },
    {
     "ename": "KeyboardInterrupt",
     "evalue": "",
     "output_type": "error",
     "traceback": [
      "\u001b[1;31m---------------------------------------------------------------------------\u001b[0m",
      "\u001b[1;31mKeyboardInterrupt\u001b[0m                         Traceback (most recent call last)",
      "Cell \u001b[1;32mIn[8], line 1\u001b[0m\n\u001b[1;32m----> 1\u001b[0m V \u001b[38;5;241m=\u001b[39m \u001b[43megm_edited\u001b[49m\u001b[43m(\u001b[49m\u001b[43mn_k\u001b[49m\u001b[38;5;241;43m=\u001b[39;49m\u001b[38;5;241;43m100\u001b[39;49m\u001b[43m,\u001b[49m\u001b[43m \u001b[49m\u001b[43mn_z\u001b[49m\u001b[38;5;241;43m=\u001b[39;49m\u001b[38;5;241;43m15\u001b[39;49m\u001b[43m,\u001b[49m\u001b[43m \u001b[49m\u001b[43mepsilon\u001b[49m\u001b[38;5;241;43m=\u001b[39;49m\u001b[38;5;241;43m1e-4\u001b[39;49m\u001b[43m,\u001b[49m\u001b[43m \u001b[49m\u001b[43mtheta\u001b[49m\u001b[38;5;241;43m=\u001b[39;49m\u001b[38;5;241;43m2\u001b[39;49m\u001b[43m,\u001b[49m\u001b[43m \u001b[49m\u001b[43mrho\u001b[49m\u001b[38;5;241;43m=\u001b[39;49m\u001b[38;5;241;43m0.98\u001b[39;49m\u001b[43m,\u001b[49m\u001b[43m \u001b[49m\u001b[43mA\u001b[49m\u001b[38;5;241;43m=\u001b[39;49m\u001b[38;5;241;43m10\u001b[39;49m\u001b[43m,\u001b[49m\u001b[43m \u001b[49m\u001b[43malpha\u001b[49m\u001b[38;5;241;43m=\u001b[39;49m\u001b[38;5;241;43m1\u001b[39;49m\u001b[38;5;241;43m/\u001b[39;49m\u001b[38;5;241;43m3\u001b[39;49m\u001b[43m,\u001b[49m\u001b[43m \u001b[49m\u001b[43mdelta\u001b[49m\u001b[38;5;241;43m=\u001b[39;49m\u001b[38;5;241;43m1\u001b[39;49m\u001b[43m,\u001b[49m\u001b[43m \u001b[49m\u001b[43msigma\u001b[49m\u001b[38;5;241;43m=\u001b[39;49m\u001b[38;5;241;43m0.01\u001b[39;49m\u001b[43m,\u001b[49m\u001b[43m \u001b[49m\u001b[43mmu\u001b[49m\u001b[38;5;241;43m=\u001b[39;49m\u001b[38;5;241;43m0\u001b[39;49m\u001b[43m,\u001b[49m\u001b[43m \u001b[49m\u001b[43mtoler\u001b[49m\u001b[38;5;241;43m=\u001b[39;49m\u001b[38;5;241;43m1e-6\u001b[39;49m\u001b[43m,\u001b[49m\u001b[43m \u001b[49m\u001b[43mbeta\u001b[49m\u001b[38;5;241;43m=\u001b[39;49m\u001b[38;5;241;43m0.96\u001b[39;49m\u001b[43m,\u001b[49m\u001b[43m \u001b[49m\u001b[43mgamma\u001b[49m\u001b[38;5;241;43m=\u001b[39;49m\u001b[38;5;241;43m2\u001b[39;49m\u001b[43m,\u001b[49m\u001b[43m \u001b[49m\u001b[43mmax_iter\u001b[49m\u001b[38;5;241;43m=\u001b[39;49m\u001b[38;5;241;43m10000\u001b[39;49m\u001b[43m)\u001b[49m\n",
      "Cell \u001b[1;32mIn[7], line 38\u001b[0m, in \u001b[0;36megm_edited\u001b[1;34m(n_k, n_z, epsilon, theta, rho, A, alpha, delta, sigma, mu, toler, beta, gamma, max_iter)\u001b[0m\n\u001b[0;32m     36\u001b[0m \u001b[38;5;28;01mfor\u001b[39;00m j, interpolator \u001b[38;5;129;01min\u001b[39;00m \u001b[38;5;28menumerate\u001b[39m(interpolators): \u001b[38;5;66;03m# Here I changed how the loop is defined \u001b[39;00m\n\u001b[0;32m     37\u001b[0m     \u001b[38;5;28;01mfor\u001b[39;00m i \u001b[38;5;129;01min\u001b[39;00m \u001b[38;5;28mrange\u001b[39m(n_k):\n\u001b[1;32m---> 38\u001b[0m             derivatives[i,j]\u001b[38;5;241m=\u001b[39m((\u001b[43minterpolator\u001b[49m\u001b[43m(\u001b[49m\u001b[43mk_grid\u001b[49m\u001b[43m[\u001b[49m\u001b[43mi\u001b[49m\u001b[43m]\u001b[49m\u001b[38;5;241;43m+\u001b[39;49m\u001b[43mepsilon\u001b[49m\u001b[43m)\u001b[49m\u001b[38;5;241m-\u001b[39minterpolator(k_grid[i]\u001b[38;5;241m-\u001b[39mepsilon))\u001b[38;5;241m/\u001b[39m(\u001b[38;5;241m2\u001b[39m\u001b[38;5;241m*\u001b[39mepsilon))\n\u001b[0;32m     39\u001b[0m \u001b[38;5;66;03m#print(derivatives[:,0])\u001b[39;00m\n\u001b[0;32m     40\u001b[0m \n\u001b[0;32m     41\u001b[0m \u001b[38;5;66;03m#for i in range(n_z): #15 loop\u001b[39;00m\n\u001b[1;32m   (...)\u001b[0m\n\u001b[0;32m     44\u001b[0m \n\u001b[0;32m     45\u001b[0m \u001b[38;5;66;03m#Now that we have the derivatives, we can use the first-order conditions to find consumption\u001b[39;00m\n\u001b[0;32m     46\u001b[0m c_star \u001b[38;5;241m=\u001b[39m (derivatives)\u001b[38;5;241m*\u001b[39m\u001b[38;5;241m*\u001b[39m(\u001b[38;5;241m-\u001b[39m\u001b[38;5;241m1\u001b[39m\u001b[38;5;241m/\u001b[39mgamma)\n",
      "File \u001b[1;32m~\\AppData\\Local\\Packages\\PythonSoftwareFoundation.Python.3.11_qbz5n2kfra8p0\\LocalCache\\local-packages\\Python311\\site-packages\\scipy\\interpolate\\_polyint.py:81\u001b[0m, in \u001b[0;36m_Interpolator1D.__call__\u001b[1;34m(self, x)\u001b[0m\n\u001b[0;32m     79\u001b[0m x, x_shape \u001b[38;5;241m=\u001b[39m \u001b[38;5;28mself\u001b[39m\u001b[38;5;241m.\u001b[39m_prepare_x(x)\n\u001b[0;32m     80\u001b[0m y \u001b[38;5;241m=\u001b[39m \u001b[38;5;28mself\u001b[39m\u001b[38;5;241m.\u001b[39m_evaluate(x)\n\u001b[1;32m---> 81\u001b[0m \u001b[38;5;28;01mreturn\u001b[39;00m \u001b[38;5;28;43mself\u001b[39;49m\u001b[38;5;241;43m.\u001b[39;49m\u001b[43m_finish_y\u001b[49m\u001b[43m(\u001b[49m\u001b[43my\u001b[49m\u001b[43m,\u001b[49m\u001b[43m \u001b[49m\u001b[43mx_shape\u001b[49m\u001b[43m)\u001b[49m\n",
      "File \u001b[1;32m~\\AppData\\Local\\Packages\\PythonSoftwareFoundation.Python.3.11_qbz5n2kfra8p0\\LocalCache\\local-packages\\Python311\\site-packages\\scipy\\interpolate\\_polyint.py:95\u001b[0m, in \u001b[0;36m_Interpolator1D._finish_y\u001b[1;34m(self, y, x_shape)\u001b[0m\n\u001b[0;32m     92\u001b[0m     x_shape \u001b[38;5;241m=\u001b[39m x\u001b[38;5;241m.\u001b[39mshape\n\u001b[0;32m     93\u001b[0m     \u001b[38;5;28;01mreturn\u001b[39;00m x\u001b[38;5;241m.\u001b[39mravel(), x_shape\n\u001b[1;32m---> 95\u001b[0m \u001b[38;5;28;01mdef\u001b[39;00m \u001b[38;5;21m_finish_y\u001b[39m(\u001b[38;5;28mself\u001b[39m, y, x_shape):\n\u001b[0;32m     96\u001b[0m \u001b[38;5;250m    \u001b[39m\u001b[38;5;124;03m\"\"\"Reshape interpolated y back to an N-D array similar to initial y\"\"\"\u001b[39;00m\n\u001b[0;32m     97\u001b[0m     y \u001b[38;5;241m=\u001b[39m y\u001b[38;5;241m.\u001b[39mreshape(x_shape \u001b[38;5;241m+\u001b[39m \u001b[38;5;28mself\u001b[39m\u001b[38;5;241m.\u001b[39m_y_extra_shape)\n",
      "\u001b[1;31mKeyboardInterrupt\u001b[0m: "
     ]
    }
   ],
   "source": [
    "V = egm_edited(n_k=100, n_z=15, epsilon=1e-4, theta=2, rho=0.98, A=10, alpha=1/3, delta=1, sigma=0.01, mu=0, toler=1e-6, beta=0.96, gamma=2, max_iter=10000)"
   ]
  }
 ],
 "metadata": {
  "kernelspec": {
   "display_name": "Python 3",
   "language": "python",
   "name": "python3"
  },
  "language_info": {
   "codemirror_mode": {
    "name": "ipython",
    "version": 3
   },
   "file_extension": ".py",
   "mimetype": "text/x-python",
   "name": "python",
   "nbconvert_exporter": "python",
   "pygments_lexer": "ipython3",
   "version": "3.11.7"
  }
 },
 "nbformat": 4,
 "nbformat_minor": 2
}
