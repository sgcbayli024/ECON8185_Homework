{
 "cells": [
  {
   "cell_type": "code",
   "execution_count": 1,
   "metadata": {},
   "outputs": [],
   "source": [
    "import numpy as np\n",
    "import quantecon as qe\n",
    "import matplotlib.pyplot as plt\n",
    "import time\n",
    "from scipy.optimize import minimize_scalar\n",
    "from scipy.interpolate import interp1d"
   ]
  },
  {
   "cell_type": "markdown",
   "metadata": {},
   "source": [
    "Create grids for next period's capital holdings"
   ]
  },
  {
   "cell_type": "code",
   "execution_count": 77,
   "metadata": {},
   "outputs": [],
   "source": [
    "def create_grids(n, theta):\n",
    "\n",
    "    zero_grid=np.linspace(0, 1, n).reshape(-1,1)\n",
    "\n",
    "    k_grid=np.zeros(shape=(n,1))\n",
    "\n",
    "    k_low  = 1e-2\n",
    "\n",
    "    k_high  = 100\n",
    "    \n",
    "    #for i in range(len(new_grid)):\n",
    "        #k_grid[i] =  low_bound + ( up_bound - low_bound ) * (new_grid[i] ** 1)\n",
    "\n",
    "    for i in range(len(zero_grid)):\n",
    "        k_grid[i] =  (k_low) + ( (k_high) - (k_low) ) * (zero_grid[i] ** theta)\n",
    "\n",
    "    return k_grid "
   ]
  },
  {
   "cell_type": "markdown",
   "metadata": {},
   "source": [
    "define various utility functions"
   ]
  },
  {
   "cell_type": "code",
   "execution_count": 3,
   "metadata": {},
   "outputs": [],
   "source": [
    "def u(c, gamma):\n",
    "    if gamma == 1:\n",
    "        return np.log(c)\n",
    "    else:\n",
    "        return ((c ** (1 - gamma))/( 1 - gamma))"
   ]
  },
  {
   "cell_type": "code",
   "execution_count": 4,
   "metadata": {},
   "outputs": [],
   "source": [
    "def u_ces(c,gamma, beta):\n",
    "    return (1 - beta) * (c) ** (1-gamma)"
   ]
  },
  {
   "cell_type": "markdown",
   "metadata": {},
   "source": [
    "define the production function"
   ]
  },
  {
   "cell_type": "code",
   "execution_count": 5,
   "metadata": {},
   "outputs": [],
   "source": [
    "def f(A, alpha, delta, k):\n",
    "    return A * (k ** alpha) + (1 - delta) * k"
   ]
  },
  {
   "cell_type": "markdown",
   "metadata": {},
   "source": [
    "Now, create a function to linearly interpolate each column of the Value matrix, so that we can calculate the derivate at each point on the capital grid."
   ]
  },
  {
   "cell_type": "code",
   "execution_count": 6,
   "metadata": {},
   "outputs": [],
   "source": [
    "def interpolate_column(grid, column):\n",
    "    interpolator = interp1d(np.squeeze(grid), column, kind = 'linear', fill_value = 'extrapolate')\n",
    "    return interpolator"
   ]
  },
  {
   "cell_type": "markdown",
   "metadata": {},
   "source": [
    "Let's now begin with the endogenous grid method"
   ]
  },
  {
   "cell_type": "code",
   "execution_count": 328,
   "metadata": {},
   "outputs": [],
   "source": [
    "def egm(n_k, n_z, epsilon, theta, rho, A, alpha, delta, sigma, mu, toler, beta, gamma, max_iter): \n",
    "    \n",
    "    # First, discretise an AR1 process using Rouwenhorst's method\n",
    "    mc = qe.markov.approximation.rouwenhorst(n_z, rho, sigma, mu)\n",
    "    z, Pi = mc.state_values, mc.P\n",
    "\n",
    "    # Create capital, shock and resource grids\n",
    "    z_grid = z\n",
    "    # k_grid = create_grids(n_k, theta)\n",
    "    k_grid = create_grids(n_k, theta)\n",
    "    Y_grid = f(np.exp(z_grid) * A, alpha, delta, k_grid) \n",
    "\n",
    "    #Create a matrix to store the derivatives of the interpolated value functions on the capital grid\n",
    "    derivatives = np.zeros((n_k,n_z))\n",
    "    V_tilde = np.zeros((n_k,n_z))\n",
    "\n",
    "    # Initialise value and policy functions\n",
    "    j_vals = np.arange(1,16)\n",
    "    V_star = (0.01 * (k_grid)) * (j_vals ** (1/gamma))\n",
    "    V_star_new = np.zeros((n_k, n_z))  \n",
    "    interpolated_V = np.zeros((n_k,n_z))\n",
    "\n",
    "    it = 0\n",
    "\n",
    "    for it in range(max_iter):\n",
    "\n",
    "        # Create list of interpolated columns\n",
    "        interpolators = [interpolate_column(k_grid, V_star[:,j]) for j in range(n_z)]\n",
    "\n",
    "        # Update the derivatives\n",
    "        for j, interpolator in enumerate(interpolators): # Here I changed how the loop is defined \n",
    "            for i in range(n_k):\n",
    "                #for j in range(len(n_z)):\n",
    "                    #derivatives[i,j]=((interpolators[j](k_grid[i])-interpolators[j](k_grid[i]-epsilon))/(epsilon))\n",
    "                    derivatives[i,j]=((interpolator(k_grid[i])-interpolator(k_grid[i]-epsilon))/(epsilon))\n",
    "        for i in range(n_z): #15 loop\n",
    "            V_tilde[:,i] =  beta * np.dot(Pi[i,:], derivatives.T)\n",
    "        # Now that we have the derivatives, we can use the first-order conditions to find consumption\n",
    "        #c_star = (derivatives)**(-1/gamma)\n",
    "        #c_star = (beta * derivatives)**(-1/gamma)\n",
    "        #print(V_tilde)\n",
    "        c_star = (V_tilde)**(-1/gamma)\n",
    "        # Calculate the implied total resources\n",
    "        Y_star = c_star + k_grid\n",
    "        # Update the Value function\n",
    "        V = u(c_star, gamma) + V_star # Here I added gamma as an input for the function. I don't remember if I changed how u() was defined or you forgot to include this\n",
    "        # New interpolation \n",
    "        V_interpolators = [interpolate_column(Y_star[:,j], V[:,j]) for j in range(n_z)] # Changed V_star by V\n",
    "\n",
    "        # Evaluate \n",
    "        for j, interpolator in enumerate(V_interpolators): # Here I changed how the loop is defined\n",
    "            for i in range(n_k):\n",
    "                interpolated_V[i,j] = V_interpolators[j](Y_grid[i, j])\n",
    "        # Now, calculate the updated expected value\n",
    "        #for j in range(n_z):\n",
    "            #V_star_new[:, j] = beta * np.dot(interpolated_V[:, j], Pi[j,:])       \n",
    "        V_star_new = beta * np.dot(interpolated_V, Pi.T) # I am not sure that this is the correct way to define this. \n",
    "        # Check error\n",
    "\n",
    "        error = np.max(np.abs(V_star_new - V_star)/1+np.abs(V_star))\n",
    "\n",
    "        if it % 25 == 0:\n",
    "            print(f'Iteration {it} completed with error = {error}')\n",
    "\n",
    "        if error < toler:\n",
    "            break\n",
    "\n",
    "        V_star = np.copy(V_star_new)        \n",
    "        it+=1\n",
    "\n",
    "    return V_star"
   ]
  },
  {
   "cell_type": "code",
   "execution_count": 65,
   "metadata": {},
   "outputs": [],
   "source": [
    "def egm_edited(n_k, n_z, epsilon, theta, rho, A, alpha, delta, sigma, mu, toler, beta, gamma, max_iter): \n",
    "\n",
    "    # First, discretise an AR1 process using Rouwenhorst's method\n",
    "    mc = qe.markov.approximation.rouwenhorst(n_z, rho, sigma, mu)\n",
    "    z, Pi = mc.state_values, mc.P\n",
    "\n",
    "    # Create capital, shock and resource grids\n",
    "    z_grid = z\n",
    "\n",
    "    k_grid = create_grids(n_k, theta)\n",
    "\n",
    "    Y_grid = f(np.exp(z_grid) * A, alpha, delta, k_grid)\n",
    "    #print(Y_grid[:,0])\n",
    "\n",
    "    #Create a matrix to store the derivatives of the interpolated value functions on the capital grid\n",
    "    derivatives = np.zeros((n_k,n_z))\n",
    "\n",
    "    # Initialise value and policy functions\n",
    "    V_star = np.zeros((n_k, n_z))  \n",
    "    for i in range(n_k):\n",
    "        for j in range(n_z):\n",
    "            V_star[i,j] = (u(np.squeeze(k_grid[i]), gamma))\n",
    "\n",
    "    #plt.plot(k_grid, V_star)\n",
    "    #plt.show()\n",
    "    #print(V_star[:,0])\n",
    "\n",
    "    V_star_new = np.zeros((n_k, n_z))  \n",
    "\n",
    "    interpolated_V = np.zeros((n_k,n_z))\n",
    "\n",
    "    it = 0\n",
    "\n",
    "    for it in range(max_iter):\n",
    "\n",
    "        # Create list of interpolated columns\n",
    "        interpolators = [interpolate_column(np.squeeze(k_grid), V_star[:,j]) for j in range(n_z)]\n",
    "\n",
    "        # Update the derivatives\n",
    "        for j, interpolator in enumerate(interpolators): # Here I changed how the loop is defined \n",
    "            for i in range(n_k):\n",
    "                    derivatives[i,j]=((interpolator(k_grid[i])-interpolator(k_grid[i]-epsilon))/(epsilon))\n",
    "        #print(derivatives[:,0])\n",
    "\n",
    "        #Now that we have the derivatives, we can use the first-order conditions to find consumption\n",
    "        c_star = (derivatives)**(-1/gamma)\n",
    "        #print(c_star[:,0])\n",
    "\n",
    "        # Calculate the implied total resources\n",
    "        Y_star = c_star + k_grid\n",
    "        #print(Y_star[:,0])\n",
    "\n",
    "        # Update the Value function\n",
    "        V = u(c_star, gamma) + V_star\n",
    "        #print(V[:,1])\n",
    "\n",
    "        #New interpolation \n",
    "        V_interpolators = [interpolate_column(Y_star[:,j], V[:,j]) for j in range(n_z)]\n",
    "\n",
    "        # Evaluate \n",
    "        for j, interpolator in enumerate(V_interpolators): \n",
    "            for i in range(n_k):\n",
    "                interpolated_V[i,j] = interpolator(Y_grid[i, j])\n",
    "        #print(interpolated_V[:,0])\n",
    "\n",
    "        # Now, calculate the updated expected value  \n",
    "        for i in range(n_k):\n",
    "            for j in range(n_z):   \n",
    "                V_star_new[i,j] = beta * np.dot(interpolated_V[i,:], Pi[j,:]) \n",
    "        #print(V_star_new[:,0])\n",
    "\n",
    "        # Check error\n",
    "        error = np.max((np.abs(V_star_new - V_star))/(1+np.abs(V_star)))\n",
    "\n",
    "        if it % 25 == 0:\n",
    "            print(f'Iteration {it} completed with error = {error}')\n",
    "\n",
    "        if error < toler:\n",
    "            break\n",
    "\n",
    "        V_star = np.copy(V_star_new)\n",
    "\n",
    "        #plt.plot(k_grid, V_star)\n",
    "        #plt.show()\n",
    "\n",
    "        it+=1\n",
    "\n",
    "    #X = np.zeros(shape=(n_k, n_z))\n",
    "    #for i in range(n_k):\n",
    "        #for j in range(n_z):\n",
    "\n",
    "    return V_star"
   ]
  },
  {
   "cell_type": "code",
   "execution_count": 78,
   "metadata": {},
   "outputs": [
    {
     "name": "stderr",
     "output_type": "stream",
     "text": [
      "C:\\Users\\bayle\\AppData\\Local\\Temp\\ipykernel_17048\\4278714200.py:4: UserWarning: The API of rouwenhorst has changed from `rouwenhorst(n, ybar, sigma, rho)` to `rouwenhorst(n, rho, sigma, mu=0.)`. To find more details please visit: https://github.com/QuantEcon/QuantEcon.py/issues/663.\n",
      "  mc = qe.markov.approximation.rouwenhorst(n_z, rho, sigma, mu)\n"
     ]
    },
    {
     "name": "stdout",
     "output_type": "stream",
     "text": [
      "Iteration 0 completed with error = 0.9754185259053575\n",
      "Iteration 25 completed with error = 0.012322759926048855\n",
      "Iteration 50 completed with error = 0.003681580370980187\n",
      "Iteration 75 completed with error = 0.001301652594820627\n",
      "Iteration 100 completed with error = 0.00047037620817820097\n",
      "Iteration 125 completed with error = 0.00017063891437437562\n",
      "Iteration 150 completed with error = 6.186335507006082e-05\n",
      "Iteration 175 completed with error = 2.2381841595171358e-05\n",
      "Iteration 200 completed with error = 8.096001573620384e-06\n",
      "Iteration 225 completed with error = 2.9996577652565945e-06\n",
      "Iteration 250 completed with error = 1.3030336856896394e-06\n"
     ]
    },
    {
     "data": {
      "image/png": "[encoded data removed]",
      "text/plain": [
       "<Figure size 640x480 with 1 Axes>"
      ]
     },
     "metadata": {},
     "output_type": "display_data"
    }
   ],
   "source": [
    "V = egm_edited(n_k=501, n_z=15, epsilon=1e-4, theta=2, rho=0.98, A=10, alpha=1/3, delta=1, sigma=0.01, mu=0, toler=1e-6, beta=0.96, gamma=2, max_iter=10000000)\n",
    "k_grid = create_grids(501, 2)\n",
    "plt.plot(k_grid, V)\n",
    "plt.show()"
   ]
  }
 ],
 "metadata": {
  "kernelspec": {
   "display_name": "Python 3",
   "language": "python",
   "name": "python3"
  },
  "language_info": {
   "codemirror_mode": {
    "name": "ipython",
    "version": 3
   },
   "file_extension": ".py",
   "mimetype": "text/x-python",
   "name": "python",
   "nbconvert_exporter": "python",
   "pygments_lexer": "ipython3",
   "version": "3.11.7"
  }
 },
 "nbformat": 4,
 "nbformat_minor": 2
}
