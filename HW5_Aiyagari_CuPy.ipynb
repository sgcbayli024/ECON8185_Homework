{
 "cells": [
  {
   "cell_type": "code",
   "execution_count": 1,
   "id": "1d350993-6f8e-4310-b8b8-76990e544643",
   "metadata": {},
   "outputs": [],
   "source": [
    "import numpy as np\n",
    "import scipy as sc\n",
    "import cupy as cp\n",
    "import matplotlib as plt\n",
    "import quantecon as qe"
   ]
  },
  {
   "cell_type": "code",
   "execution_count": 2,
   "id": "4d922e60-3d3b-4f10-84eb-fc3ebf28e4c6",
   "metadata": {},
   "outputs": [
    {
     "name": "stdout",
     "output_type": "stream",
     "text": [
      "1\n"
     ]
    }
   ],
   "source": [
    "print(cp.cuda.runtime.getDeviceCount())"
   ]
  },
  {
   "cell_type": "code",
   "execution_count": 9,
   "id": "6575c389-7522-477e-ae79-0a997fff4d75",
   "metadata": {},
   "outputs": [
    {
     "name": "stdout",
     "output_type": "stream",
     "text": [
      "<CUDA Device 0>\n"
     ]
    }
   ],
   "source": [
    "print(cp.cuda.Device(0))"
   ]
  },
  {
   "cell_type": "code",
   "execution_count": 11,
   "id": "b7308c98-061e-4f32-ac91-2f55cc66c87f",
   "metadata": {},
   "outputs": [],
   "source": [
    "# P = [n_a, beta, theta, n_z, rho, sigma, mu, gamma]\n",
    "P = [101, 0.96, 2, 19, 0.95, 0.2, 0, 1]"
   ]
  },
  {
   "cell_type": "code",
   "execution_count": 14,
   "id": "afe10409-46f2-4dd4-ba25-2fb653cf7215",
   "metadata": {},
   "outputs": [],
   "source": [
    "def expanding_grid(P):\n",
    "\n",
    "    zero_grid = cp.linspace(0,1,P[0]).reshape(-1,1)\n",
    "\n",
    "    asset_grid = cp.zeros(shape=(P[0],1))\n",
    "\n",
    "    a_low = 1\n",
    "\n",
    "    a_high = 100\n",
    "\n",
    "    for i in range(P[0]):\n",
    "        asset_grid[i] = (a_low) + (a_high - a_low) * (zero_grid[i] ** P[2])\n",
    "\n",
    "    return asset_grid"
   ]
  },
  {
   "cell_type": "code",
   "execution_count": 15,
   "id": "d551a3f3-b7e7-4030-8039-8ff6c8dcda70",
   "metadata": {},
   "outputs": [],
   "source": [
    "def u(c, P):\n",
    "    if P[-1] == 1:\n",
    "        return cp.log(c)\n",
    "    else:\n",
    "        return ((c**(1-P[-1]))/(1-P[-1]))"
   ]
  },
  {
   "cell_type": "code",
   "execution_count": 17,
   "id": "83a61095-6e1c-499d-a0e8-8535a47d9c60",
   "metadata": {},
   "outputs": [],
   "source": [
    "def Markov_chain(P):\n",
    "    \n",
    "  # mc = qe.markov.approximation.rouwenhorst(n_z, rho, sigma, mu)\n",
    "    mc = qe.markov.approximation.rouwenhorst(P[3], P[4], P[5], P[6])\n",
    "    \n",
    "    z_grid, T = mc,state_values, mc.P\n",
    "\n",
    "    return z_grid, T"
   ]
  },
  {
   "cell_type": "code",
   "execution_count": 23,
   "id": "7f5fdc5a-646d-4600-802b-e51f5537f54b",
   "metadata": {},
   "outputs": [],
   "source": [
    "def optimiser(a, P, A, Z, Interp_Ev):\n",
    "    return - (u( w * Z[j] + ((1+r) * A[i]) - (r * phi) - a, P) + (P[1] * Interp_Ev(a)))"
   ]
  },
  {
   "cell_type": "code",
   "execution_count": 27,
   "id": "0d22df55-599c-428e-9611-4ce631af54f1",
   "metadata": {},
   "outputs": [
    {
     "ename": "SyntaxError",
     "evalue": "cannot assign to function call here. Maybe you meant '==' instead of '='? (915443934.py, line 29)",
     "output_type": "error",
     "traceback": [
      "\u001b[1;36m  Cell \u001b[1;32mIn[27], line 29\u001b[1;36m\u001b[0m\n\u001b[1;33m    Objective(a) = optimiser(a, P, A, Z, Interp_Ev)\u001b[0m\n\u001b[1;37m    ^\u001b[0m\n\u001b[1;31mSyntaxError\u001b[0m\u001b[1;31m:\u001b[0m cannot assign to function call here. Maybe you meant '==' instead of '='?\n"
     ]
    }
   ],
   "source": [
    "def B(P, r, w, b):\n",
    "\n",
    "    z_grid, T = Markov_chain(P)\n",
    "\n",
    "    asset_grid = expanding_grid(P)\n",
    "\n",
    "  # V_init = cp.zeros(shape=(n_a, n_z))\n",
    "    V_init = cp.zeros(P[0], P[3])\n",
    "    V = cp.zeros(P[0], P[3])\n",
    "    G_init = cp.zeros(P[0], P[3])\n",
    "    G = cp.zeros(P[0], P[3])\n",
    "                      \n",
    "    if b>0:\n",
    "\n",
    "        phi = cp.min([b, (w * cp.min(z_grid))/r])\n",
    "\n",
    "    else:\n",
    "\n",
    "        phi = b\n",
    "\n",
    "    for j in range(P[3]):\n",
    "\n",
    "        Expected_value = V_init * T[j,:]\n",
    "\n",
    "        Interp_Ev = cp.sc.interpolate.interp1d(cp.squeeze(a_grid), cp.squeeze(Expected_value), kind='cubic', fill_value='extrapolate')\n",
    "\n",
    "        for i in range(P[0]):\n",
    "\n",
    "                Objective(a) = optimiser(a, P, A, Z, Interp_Ev)\n",
    "\n",
    "                lb = 0\n",
    "\n",
    "                ub = w * Z[j] + ((1+r) * A[i])\n",
    "\n",
    "                result = minimize_scalar(optimiser, args = (P, A, Z, Interp_Ev), bounds=(lb, ub), method = 'bounded')\n",
    "\n",
    "                G[i,j] = result.x\n",
    "\n",
    "                V[i,j] = -result.fun\n",
    "\n",
    "\n",
    "    return V, G    "
   ]
  },
  {
   "cell_type": "code",
   "execution_count": null,
   "id": "e75f1b67-9313-49bb-b67c-c9d1d2b78754",
   "metadata": {},
   "outputs": [],
   "source": []
  }
 ],
 "metadata": {
  "kernelspec": {
   "display_name": "Python 3 (ipykernel)",
   "language": "python",
   "name": "python3"
  },
  "language_info": {
   "codemirror_mode": {
    "name": "ipython",
    "version": 3
   },
   "file_extension": ".py",
   "mimetype": "text/x-python",
   "name": "python",
   "nbconvert_exporter": "python",
   "pygments_lexer": "ipython3",
   "version": "3.10.13"
  }
 },
 "nbformat": 4,
 "nbformat_minor": 5
}
