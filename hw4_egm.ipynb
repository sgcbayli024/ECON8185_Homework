{
 "cells": [
  {
   "cell_type": "code",
   "execution_count": 28,
   "metadata": {},
   "outputs": [],
   "source": [
    "import numpy as np\n",
    "import quantecon as qe\n",
    "import matplotlib.pyplot as plt\n",
    "import time\n",
    "from scipy.optimize import minimize_scalar\n",
    "from scipy.interpolate import interp1d"
   ]
  },
  {
   "cell_type": "markdown",
   "metadata": {},
   "source": [
    "Create grids for next period's capital holdings"
   ]
  },
  {
   "cell_type": "code",
   "execution_count": 4,
   "metadata": {},
   "outputs": [],
   "source": [
    "def create_grids(n, theta):\n",
    "\n",
    "    zero_grid=np.linspace(0, 1, n).reshape(-1,1)\n",
    "\n",
    "    k_grid=np.zeros(shape=(n,1))\n",
    "\n",
    "    k_low  = 0.01\n",
    "\n",
    "    k_high  = 2\n",
    "    \n",
    "    #for i in range(len(new_grid)):\n",
    "        #k_grid[i] =  low_bound + ( up_bound - low_bound ) * (new_grid[i] ** 1)\n",
    "\n",
    "    for i in range(len(zero_grid)):\n",
    "        k_grid[i] =  (0.25 * k_low) + ( (1.5 * k_high) - (0.25 * k_low) ) * (zero_grid[i] ** theta)\n",
    "\n",
    "    return k_grid "
   ]
  },
  {
   "cell_type": "markdown",
   "metadata": {},
   "source": [
    "define various utility functions"
   ]
  },
  {
   "cell_type": "code",
   "execution_count": 5,
   "metadata": {},
   "outputs": [],
   "source": [
    "def u(c, gamma):\n",
    "    if gamma == 1:\n",
    "        return np.log(c)\n",
    "    else:\n",
    "        return ((c ** (1 - gamma))/( 1 - gamma))"
   ]
  },
  {
   "cell_type": "code",
   "execution_count": 6,
   "metadata": {},
   "outputs": [],
   "source": [
    "def u_ces(c,gamma, beta):\n",
    "    return (1 - beta) * (c) ** (1-gamma)"
   ]
  },
  {
   "cell_type": "markdown",
   "metadata": {},
   "source": [
    "define the production function"
   ]
  },
  {
   "cell_type": "code",
   "execution_count": 7,
   "metadata": {},
   "outputs": [],
   "source": [
    "def f(A, alpha, delta, k):\n",
    "    return A * (k ** alpha) + (1 - delta) * k"
   ]
  },
  {
   "cell_type": "markdown",
   "metadata": {},
   "source": [
    "Now, create a function to linearly interpolate each column of the Value matrix, so that we can calculate the derivate at each point on the capital grid."
   ]
  },
  {
   "cell_type": "code",
   "execution_count": 34,
   "metadata": {},
   "outputs": [],
   "source": [
    "def interpolate_column(grid, column):\n",
    "    interpolator = interp1d(np.squeeze(grid), column, kind = 'linear', fill_value = 'extrapolate')\n",
    "    return interpolator"
   ]
  },
  {
   "cell_type": "markdown",
   "metadata": {},
   "source": [
    "Let's now begin with the endogenous grid method"
   ]
  },
  {
   "cell_type": "code",
   "execution_count": 35,
   "metadata": {},
   "outputs": [],
   "source": [
    "k_grid = create_grids(101, 3)\n",
    "# V = np.zeros((101, 15))\n",
    "\n",
    "# for i in range(len(V[0])):\n",
    "#    for j in range(len(V[0])):\n",
    "#        V[i,j]=(0.01*(i+1))*(j+1)\n",
    "\n",
    "i_vals = np.arange(1,102)\n",
    "j_vals = np.arange(1,16)\n",
    "\n",
    "V = (0.01 * (k_grid)) * j_vals  \n",
    "\n",
    "# print(V.shape)\n",
    "\n",
    "#for j in range(len(V[1])):\n",
    "#   print(f'column {j}')\n",
    "#  print(V[:,j])\n",
    "\n",
    "#for j in range(len(V[1])):\n",
    "#\n",
    "#    fig, ax = plt.subplots(figsize=(10, 6))\n",
    "#\n",
    "#    for j in range(len(V[1])):\n",
    "#        ax.plot(k_grid, V[:, j], label=f'TFP Shock {j}')\n",
    "\n",
    "#    ax.set_title('Value Function')\n",
    "#    ax.set_xlabel('Capital Stock')\n",
    "#    ax.set_ylabel('Value')\n",
    "#    ax.legend()\n",
    "#    plt.show()\n"
   ]
  },
  {
   "cell_type": "code",
   "execution_count": 32,
   "metadata": {},
   "outputs": [],
   "source": [
    "def egm(n_k, n_z, theta, rho, sigma, mu, A, delta, max_iter ):\n",
    "    # First, discretise an AR1 process using Rouwenhorst's method\n",
    "    mc = qe.markov.approximation.rouwenhorst(n_z, rho, sigma, mu)\n",
    "    z, Pi = mc.state_values, mc.P\n",
    "\n",
    "    # Create capital and shock grids\n",
    "    z_grid = z\n",
    "    k_grid = create_grids(n_k, theta)\n",
    "\n",
    "    # Initialise value and policy functions\n",
    "    j_vals = np.arange(1,16)\n",
    "\n",
    "    V = (0.01 * (k_grid)) * j_vals  \n",
    "\n",
    "    G_kp = np.zeros((n_k, n_z))\n",
    "\n",
    "    G_kp_old = np.copy(G_kp)\n",
    "\n",
    "    it = 0\n",
    "\n",
    "    for it in range(max_iter):\n",
    "\n",
    "        interpolators = [interpolate_column(k_grid, V[:,j]) for j in range(V[1])]\n",
    "\n",
    "        \n",
    "\n",
    "\n",
    "    it+=1\n",
    "        \n",
    "\n"
   ]
  },
  {
   "cell_type": "code",
   "execution_count": null,
   "metadata": {},
   "outputs": [],
   "source": []
  }
 ],
 "metadata": {
  "kernelspec": {
   "display_name": "Python 3",
   "language": "python",
   "name": "python3"
  },
  "language_info": {
   "codemirror_mode": {
    "name": "ipython",
    "version": 3
   },
   "file_extension": ".py",
   "mimetype": "text/x-python",
   "name": "python",
   "nbconvert_exporter": "python",
   "pygments_lexer": "ipython3",
   "version": "3.11.7"
  }
 },
 "nbformat": 4,
 "nbformat_minor": 2
}
