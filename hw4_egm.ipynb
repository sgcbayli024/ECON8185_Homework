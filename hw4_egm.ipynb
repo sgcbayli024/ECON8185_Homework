{
 "cells": [
  {
   "cell_type": "code",
   "execution_count": 36,
   "metadata": {},
   "outputs": [],
   "source": [
    "import numpy as np\n",
    "import quantecon as qe\n",
    "import matplotlib.pyplot as plt\n",
    "import time\n",
    "from scipy.optimize import minimize_scalar\n",
    "from scipy.interpolate import interp1d, InterpolatedUnivariateSpline"
   ]
  },
  {
   "cell_type": "markdown",
   "metadata": {},
   "source": [
    "Create grids for next period's capital holdings"
   ]
  },
  {
   "cell_type": "code",
   "execution_count": 4,
   "metadata": {},
   "outputs": [],
   "source": [
    "def create_grids(n, theta):\n",
    "\n",
    "    zero_grid=np.linspace(0, 1, n).reshape(-1,1)\n",
    "\n",
    "    k_grid=np.zeros(shape=(n,1))\n",
    "\n",
    "    k_low  = 0.01\n",
    "\n",
    "    k_high  = 2\n",
    "    \n",
    "    #for i in range(len(new_grid)):\n",
    "        #k_grid[i] =  low_bound + ( up_bound - low_bound ) * (new_grid[i] ** 1)\n",
    "\n",
    "    for i in range(len(zero_grid)):\n",
    "        k_grid[i] =  (0.25 * k_low) + ( (1.5 * k_high) - (0.25 * k_low) ) * (zero_grid[i] ** theta)\n",
    "\n",
    "    return k_grid "
   ]
  },
  {
   "cell_type": "markdown",
   "metadata": {},
   "source": [
    "define various utility functions"
   ]
  },
  {
   "cell_type": "code",
   "execution_count": 5,
   "metadata": {},
   "outputs": [],
   "source": [
    "def u(c, gamma):\n",
    "    if gamma == 1:\n",
    "        return np.log(c)\n",
    "    else:\n",
    "        return ((c ** (1 - gamma))/( 1 - gamma))"
   ]
  },
  {
   "cell_type": "code",
   "execution_count": 6,
   "metadata": {},
   "outputs": [],
   "source": [
    "def u_ces(c,gamma, beta):\n",
    "    return (1 - beta) * (c) ** (1-gamma)"
   ]
  },
  {
   "cell_type": "markdown",
   "metadata": {},
   "source": [
    "define the production function"
   ]
  },
  {
   "cell_type": "code",
   "execution_count": 7,
   "metadata": {},
   "outputs": [],
   "source": [
    "def f(A, alpha, delta, k):\n",
    "    return A * (k ** alpha) + (1 - delta) * k"
   ]
  },
  {
   "cell_type": "markdown",
   "metadata": {},
   "source": [
    "Now, create a function to linearly interpolate each column of the Value matrix, so that we can calculate the derivate at each point on the capital grid."
   ]
  },
  {
   "cell_type": "code",
   "execution_count": 38,
   "metadata": {},
   "outputs": [],
   "source": [
    "def interpolate_column(grid, column):\n",
    "    interpolator = interp1d(np.squeeze(grid), column, kind = 'linear', fill_value = 'extrapolate')\n",
    "    return interpolator"
   ]
  },
  {
   "cell_type": "markdown",
   "metadata": {},
   "source": [
    "def "
   ]
  },
  {
   "cell_type": "markdown",
   "metadata": {},
   "source": [
    "Let's now begin with the endogenous grid method"
   ]
  },
  {
   "cell_type": "code",
   "execution_count": 35,
   "metadata": {},
   "outputs": [],
   "source": [
    "k_grid = create_grids(101, 3)\n",
    "# V = np.zeros((101, 15))\n",
    "\n",
    "# for i in range(len(V[0])):\n",
    "#    for j in range(len(V[0])):\n",
    "#        V[i,j]=(0.01*(i+1))*(j+1)\n",
    "\n",
    "i_vals = np.arange(1,102)\n",
    "j_vals = np.arange(1,16)\n",
    "\n",
    "V = (0.01 * (k_grid)) * j_vals  \n",
    "\n",
    "# print(V.shape)\n",
    "\n",
    "#for j in range(len(V[1])):\n",
    "#   print(f'column {j}')\n",
    "#  print(V[:,j])\n",
    "\n",
    "#for j in range(len(V[1])):\n",
    "#\n",
    "#    fig, ax = plt.subplots(figsize=(10, 6))\n",
    "#\n",
    "#    for j in range(len(V[1])):\n",
    "#        ax.plot(k_grid, V[:, j], label=f'TFP Shock {j}')\n",
    "\n",
    "#    ax.set_title('Value Function')\n",
    "#    ax.set_xlabel('Capital Stock')\n",
    "#    ax.set_ylabel('Value')\n",
    "#    ax.legend()\n",
    "#    plt.show()\n"
   ]
  },
  {
   "cell_type": "code",
   "execution_count": 71,
   "metadata": {},
   "outputs": [],
   "source": [
    "def egm(n_k, n_z, epsilon, theta, rho, sigma, mu, toler, beta, gamma, max_iter):\n",
    "    # First, discretise an AR1 process using Rouwenhorst's method\n",
    "    mc = qe.markov.approximation.rouwenhorst(n_z, rho, sigma, mu)\n",
    "    z, Pi = mc.state_values, mc.P\n",
    "\n",
    "    # Create capital, shock and resource grids\n",
    "    z_grid = z\n",
    "    k_grid = create_grids(n_k, theta)\n",
    "    Y_grid = np.meshgrid(k_grid, z_grid, indexing='ij')\n",
    "\n",
    "    #Create a matrix to store the derivatives of the interpolated value functions on the capital grid\n",
    "    derivatives = np.array((n_k,n_z))\n",
    "\n",
    "    # Initialise value and policy functions\n",
    "    j_vals = np.arange(1,16)\n",
    "\n",
    "    V_star = (0.01 * (k_grid)) * j_vals\n",
    "\n",
    "    V_star_new = np.zeros((n_k, n_z))   \n",
    "\n",
    "    interpolated_V = np.zeros((n_k,n_z))\n",
    "\n",
    "    # G_kp = np.zeros((n_k, n_z))\n",
    "\n",
    "    # G_kp_old = np.copy(G_kp)\n",
    "\n",
    "    it = 0\n",
    "\n",
    "    for it in range(max_iter):\n",
    "\n",
    "        # Create list of interpolated columns\n",
    "        # interpolators = []\n",
    "        # for j in range(n_z)\n",
    "        interpolators = [interpolate_column(k_grid, V_star[:,j]) for j in range(n_z)]\n",
    "\n",
    "        # Update the derivatives\n",
    "\n",
    "        for j in interpolators:\n",
    "            for i in range(n_k):\n",
    "                #for j in range(len(n_z)):\n",
    "                    derivatives[i,j]=((interpolators[j](k_grid[i])-interpolators[j](k_grid[i]-epsilon))/(epsilon))\n",
    "\n",
    "        # Now that we have the derivatives, we can use the first-order conditions to find consumption\n",
    "\n",
    "        c_star = (derivatives)**(-1/gamma)\n",
    "\n",
    "        # Calculate the implied total resources\n",
    "\n",
    "        Y_star = c_star + k_grid\n",
    "\n",
    "        # Update the Value function\n",
    "\n",
    "        V = u(c_star) + V_star\n",
    "\n",
    "        # New interpolation \n",
    "\n",
    "        V_interpolators = [interpolate_column(Y_star[:,j], V_star[:,j]) for j in range(n_z)]\n",
    "\n",
    "        # Evaluate \n",
    "\n",
    "        for j in V_interpolators:\n",
    "            for i in range(n_k):\n",
    "                interpolated_V[i,j] = V_interpolators[j](Y_grid[i, j])\n",
    "\n",
    "        # Now, calculate the updated expected value\n",
    "\n",
    "        for j in range(n_z):\n",
    "            V_star_new[:, j] = beta * np.dot(interpolated_V[:, j], Pi[j,:])\n",
    "        \n",
    "        # Check error\n",
    "\n",
    "        error = np.max(np.abs(V_star_new - V_star)/1+np.abs(V_star))\n",
    "\n",
    "        if it == 0:\n",
    "            print(f'Iteration {it} completed with error = {error}')\n",
    "\n",
    "        if it % 25 == 0:\n",
    "            print(f'Iteration {it} completed with error = {error}')\n",
    "\n",
    "        if error < toler:\n",
    "            break\n",
    "\n",
    "        V_star = np.copy(V_star_new)\n",
    "        \n",
    "        it+=1\n",
    "\n",
    "    return V_star"
   ]
  },
  {
   "cell_type": "code",
   "execution_count": 72,
   "metadata": {},
   "outputs": [
    {
     "name": "stderr",
     "output_type": "stream",
     "text": [
      "C:\\Users\\bayle\\AppData\\Local\\Temp\\ipykernel_29376\\2225383842.py:3: UserWarning: The API of rouwenhorst has changed from `rouwenhorst(n, ybar, sigma, rho)` to `rouwenhorst(n, rho, sigma, mu=0.)`. To find more details please visit: https://github.com/QuantEcon/QuantEcon.py/issues/663.\n",
      "  mc = qe.markov.approximation.rouwenhorst(n_z, rho, sigma, mu)\n"
     ]
    },
    {
     "ename": "TypeError",
     "evalue": "list indices must be integers or slices, not interp1d",
     "output_type": "error",
     "traceback": [
      "\u001b[1;31m---------------------------------------------------------------------------\u001b[0m",
      "\u001b[1;31mTypeError\u001b[0m                                 Traceback (most recent call last)",
      "\u001b[1;32mc:\\Users\\bayle\\Documents\\Github\\ECON8185_Homework\\hw4_egm.ipynb Cell 15\u001b[0m line \u001b[0;36m1\n\u001b[1;32m----> <a href='vscode-notebook-cell:/c%3A/Users/bayle/Documents/Github/ECON8185_Homework/hw4_egm.ipynb#X20sZmlsZQ%3D%3D?line=0'>1</a>\u001b[0m v \u001b[39m=\u001b[39m egm(n_k\u001b[39m=\u001b[39;49m\u001b[39m1001\u001b[39;49m, n_z\u001b[39m=\u001b[39;49m\u001b[39m15\u001b[39;49m, epsilon\u001b[39m=\u001b[39;49m\u001b[39m1e-6\u001b[39;49m, theta\u001b[39m=\u001b[39;49m\u001b[39m2\u001b[39;49m, rho\u001b[39m=\u001b[39;49m\u001b[39m0.98\u001b[39;49m, sigma\u001b[39m=\u001b[39;49m\u001b[39m0.02\u001b[39;49m, mu\u001b[39m=\u001b[39;49m\u001b[39m0\u001b[39;49m, toler\u001b[39m=\u001b[39;49m\u001b[39m4e-7\u001b[39;49m, beta\u001b[39m=\u001b[39;49m\u001b[39m0.9\u001b[39;49m, gamma\u001b[39m=\u001b[39;49m\u001b[39m2\u001b[39;49m, max_iter\u001b[39m=\u001b[39;49m\u001b[39m10000\u001b[39;49m)\n",
      "\u001b[1;32mc:\\Users\\bayle\\Documents\\Github\\ECON8185_Homework\\hw4_egm.ipynb Cell 15\u001b[0m line \u001b[0;36m4\n\u001b[0;32m     <a href='vscode-notebook-cell:/c%3A/Users/bayle/Documents/Github/ECON8185_Homework/hw4_egm.ipynb#X20sZmlsZQ%3D%3D?line=37'>38</a>\u001b[0m \u001b[39mfor\u001b[39;00m j \u001b[39min\u001b[39;00m interpolators:\n\u001b[0;32m     <a href='vscode-notebook-cell:/c%3A/Users/bayle/Documents/Github/ECON8185_Homework/hw4_egm.ipynb#X20sZmlsZQ%3D%3D?line=38'>39</a>\u001b[0m     \u001b[39mfor\u001b[39;00m i \u001b[39min\u001b[39;00m \u001b[39mrange\u001b[39m(n_k):\n\u001b[0;32m     <a href='vscode-notebook-cell:/c%3A/Users/bayle/Documents/Github/ECON8185_Homework/hw4_egm.ipynb#X20sZmlsZQ%3D%3D?line=39'>40</a>\u001b[0m         \u001b[39m#for j in range(len(n_z)):\u001b[39;00m\n\u001b[1;32m---> <a href='vscode-notebook-cell:/c%3A/Users/bayle/Documents/Github/ECON8185_Homework/hw4_egm.ipynb#X20sZmlsZQ%3D%3D?line=40'>41</a>\u001b[0m             derivatives[i,j]\u001b[39m=\u001b[39m((interpolators[j](k_grid[i])\u001b[39m-\u001b[39minterpolators[j](k_grid[i]\u001b[39m-\u001b[39mepsilon))\u001b[39m/\u001b[39m(epsilon))\n\u001b[0;32m     <a href='vscode-notebook-cell:/c%3A/Users/bayle/Documents/Github/ECON8185_Homework/hw4_egm.ipynb#X20sZmlsZQ%3D%3D?line=42'>43</a>\u001b[0m \u001b[39m# Now that we have the derivatives, we can use the first-order conditions to find consumption\u001b[39;00m\n\u001b[0;32m     <a href='vscode-notebook-cell:/c%3A/Users/bayle/Documents/Github/ECON8185_Homework/hw4_egm.ipynb#X20sZmlsZQ%3D%3D?line=44'>45</a>\u001b[0m c_star \u001b[39m=\u001b[39m (derivatives)\u001b[39m*\u001b[39m\u001b[39m*\u001b[39m(\u001b[39m-\u001b[39m\u001b[39m1\u001b[39m\u001b[39m/\u001b[39mgamma)\n",
      "\u001b[1;31mTypeError\u001b[0m: list indices must be integers or slices, not interp1d"
     ]
    }
   ],
   "source": [
    "v = egm(n_k=1001, n_z=15, epsilon=1e-6, theta=2, rho=0.98, sigma=0.02, mu=0, toler=4e-7, beta=0.9, gamma=2, max_iter=10000)"
   ]
  }
 ],
 "metadata": {
  "kernelspec": {
   "display_name": "Python 3",
   "language": "python",
   "name": "python3"
  },
  "language_info": {
   "codemirror_mode": {
    "name": "ipython",
    "version": 3
   },
   "file_extension": ".py",
   "mimetype": "text/x-python",
   "name": "python",
   "nbconvert_exporter": "python",
   "pygments_lexer": "ipython3",
   "version": "3.11.7"
  }
 },
 "nbformat": 4,
 "nbformat_minor": 2
}
